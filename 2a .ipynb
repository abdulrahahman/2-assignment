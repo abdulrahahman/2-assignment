{
 "cells": [
  {
   "cell_type": "code",
   "execution_count": null,
   "id": "39d99a1d",
   "metadata": {},
   "outputs": [],
   "source": [
    "name :s.Abdul rahman\n",
    "batch :dS50122\n",
    "assignment :2\n",
    "    \n",
    "Write a Python program that accepts a word from the user and reverse it.\n",
    "\n",
    "\n",
    "\n",
    "Sample Test Case\n",
    "\n",
    "\n",
    "\n",
    "Input : Edyoda\n",
    "\n",
    "output: adoydE"
   ]
  },
  {
   "cell_type": "code",
   "execution_count": 7,
   "id": "9b438abd",
   "metadata": {},
   "outputs": [
    {
     "name": "stdout",
     "output_type": "stream",
     "text": [
      "input : edyoda\n",
      "output : adoyde\n"
     ]
    }
   ],
   "source": [
    "a=input (\"input : \")\n",
    "b=\"\"\n",
    "for i in a:\n",
    "    b=i+b\n",
    "print(\"output :\",b)"
   ]
  },
  {
   "cell_type": "code",
   "execution_count": null,
   "id": "e7efa014",
   "metadata": {},
   "outputs": [],
   "source": []
  }
 ],
 "metadata": {
  "kernelspec": {
   "display_name": "Python 3 (ipykernel)",
   "language": "python",
   "name": "python3"
  },
  "language_info": {
   "codemirror_mode": {
    "name": "ipython",
    "version": 3
   },
   "file_extension": ".py",
   "mimetype": "text/x-python",
   "name": "python",
   "nbconvert_exporter": "python",
   "pygments_lexer": "ipython3",
   "version": "3.8.6"
  }
 },
 "nbformat": 4,
 "nbformat_minor": 5
}
